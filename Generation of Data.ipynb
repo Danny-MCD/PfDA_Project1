{
 "cells": [
  {
   "cell_type": "markdown",
   "id": "27a350cf",
   "metadata": {},
   "source": [
    "# Programming for Data Analysis"
   ]
  },
  {
   "cell_type": "markdown",
   "id": "53d0ceb7",
   "metadata": {},
   "source": [
    "## Project 1: Generation of data"
   ]
  },
  {
   "cell_type": "markdown",
   "id": "7fff19f7",
   "metadata": {},
   "source": [
    "## Author: Daniel Mc Donagh"
   ]
  },
  {
   "cell_type": "markdown",
   "id": "fef3b0fc",
   "metadata": {},
   "source": [
    "This project will generate random Irish person data using the attributes of age, height, weight and sex. The random generated data will be based on the actual distribution of said data taken from statistical data measurements on the irish population.\n"
   ]
  },
  {
   "cell_type": "code",
   "execution_count": 15,
   "id": "61901ef0",
   "metadata": {},
   "outputs": [],
   "source": [
    "import pandas as pd\n",
    "import numpy as np\n",
    "import seaborn as sns\n",
    "import matplotlib.pyplot as plt"
   ]
  },
  {
   "cell_type": "markdown",
   "id": "11963ff1",
   "metadata": {},
   "source": [
    "# Variables\n"
   ]
  },
  {
   "cell_type": "markdown",
   "id": "03ec49db",
   "metadata": {},
   "source": [
    "The List of variables to be used in the datarame are \n",
    "\n",
    "- ID \n",
    "- Gender\n",
    "- Age\n",
    "- Weight\n",
    "- Height"
   ]
  },
  {
   "cell_type": "markdown",
   "id": "a54be441",
   "metadata": {},
   "source": [
    "### Gender\n",
    "Data taken from the central statistics office shows that since 1971 when there was an equal 50/50 split in the number of males and females in Ireland, the number of females has steadily increased such that in 2022, this had changed with females accounting for 51% of the population.(CSO 2023)\n"
   ]
  },
  {
   "cell_type": "code",
   "execution_count": null,
   "id": "45c889d4",
   "metadata": {},
   "outputs": [],
   "source": []
  },
  {
   "cell_type": "code",
   "execution_count": null,
   "id": "e6d6236c",
   "metadata": {},
   "outputs": [],
   "source": []
  },
  {
   "cell_type": "code",
   "execution_count": null,
   "id": "112c2f54",
   "metadata": {},
   "outputs": [],
   "source": []
  },
  {
   "cell_type": "code",
   "execution_count": null,
   "id": "3248df50",
   "metadata": {},
   "outputs": [],
   "source": []
  },
  {
   "cell_type": "code",
   "execution_count": null,
   "id": "4178c382",
   "metadata": {},
   "outputs": [],
   "source": []
  },
  {
   "cell_type": "code",
   "execution_count": null,
   "id": "d225e919",
   "metadata": {},
   "outputs": [],
   "source": []
  },
  {
   "cell_type": "code",
   "execution_count": 9,
   "id": "1c0e333f",
   "metadata": {},
   "outputs": [],
   "source": [
    "df = pd.DataFrame(index = None)\n",
    "rng = np.random.default_rng(seed = 1)\n"
   ]
  },
  {
   "cell_type": "code",
   "execution_count": 10,
   "id": "31764b67",
   "metadata": {},
   "outputs": [
    {
     "data": {
      "text/html": [
       "<div>\n",
       "<style scoped>\n",
       "    .dataframe tbody tr th:only-of-type {\n",
       "        vertical-align: middle;\n",
       "    }\n",
       "\n",
       "    .dataframe tbody tr th {\n",
       "        vertical-align: top;\n",
       "    }\n",
       "\n",
       "    .dataframe thead th {\n",
       "        text-align: right;\n",
       "    }\n",
       "</style>\n",
       "<table border=\"1\" class=\"dataframe\">\n",
       "  <thead>\n",
       "    <tr style=\"text-align: right;\">\n",
       "      <th></th>\n",
       "      <th>person</th>\n",
       "    </tr>\n",
       "  </thead>\n",
       "  <tbody>\n",
       "    <tr>\n",
       "      <th>0</th>\n",
       "      <td>Person 1</td>\n",
       "    </tr>\n",
       "    <tr>\n",
       "      <th>1</th>\n",
       "      <td>Person 2</td>\n",
       "    </tr>\n",
       "    <tr>\n",
       "      <th>2</th>\n",
       "      <td>Person 3</td>\n",
       "    </tr>\n",
       "    <tr>\n",
       "      <th>3</th>\n",
       "      <td>Person 4</td>\n",
       "    </tr>\n",
       "    <tr>\n",
       "      <th>4</th>\n",
       "      <td>Person 5</td>\n",
       "    </tr>\n",
       "  </tbody>\n",
       "</table>\n",
       "</div>"
      ],
      "text/plain": [
       "     person\n",
       "0  Person 1\n",
       "1  Person 2\n",
       "2  Person 3\n",
       "3  Person 4\n",
       "4  Person 5"
      ]
     },
     "execution_count": 10,
     "metadata": {},
     "output_type": "execute_result"
    }
   ],
   "source": [
    "person = []\n",
    "for i in range (100):\n",
    "    person.append (\"Person {}\".format(i+1))\n",
    "\n",
    "df[\"person\"] = person\n",
    "df.head()"
   ]
  },
  {
   "cell_type": "code",
   "execution_count": 21,
   "id": "6c424781",
   "metadata": {},
   "outputs": [
    {
     "data": {
      "image/png": "[encoded data removed]",
      "text/plain": [
       "<Figure size 640x480 with 1 Axes>"
      ]
     },
     "metadata": {},
     "output_type": "display_data"
    }
   ],
   "source": [
    "gender_choice = [\"Male\",\"Female\"]\n",
    "gender = rng.choice (gender_choice, p = [0.49, 0.51], size = 100) #(Numpy 2022)\n",
    "df[\"gender\"] = gender\n",
    "\n",
    "# Test\n",
    "sns.countplot(x = df[\"gender\"])\n",
    "plt.suptitle (\"Male vs Female\")\n",
    "plt.show()"
   ]
  },
  {
   "cell_type": "code",
   "execution_count": 19,
   "id": "a5446a09",
   "metadata": {},
   "outputs": [
    {
     "data": {
      "text/plain": [
       "<bound method NDFrame.head of         person  gender\n",
       "0     Person 1    Male\n",
       "1     Person 2    Male\n",
       "2     Person 3    Male\n",
       "3     Person 4  Female\n",
       "4     Person 5    Male\n",
       "..         ...     ...\n",
       "95   Person 96    Male\n",
       "96   Person 97  Female\n",
       "97   Person 98    Male\n",
       "98   Person 99    Male\n",
       "99  Person 100    Male\n",
       "\n",
       "[100 rows x 2 columns]>"
      ]
     },
     "execution_count": 19,
     "metadata": {},
     "output_type": "execute_result"
    }
   ],
   "source": [
    "df.head\n"
   ]
  },
  {
   "cell_type": "code",
   "execution_count": 20,
   "id": "c5c894f5",
   "metadata": {},
   "outputs": [
    {
     "data": {
      "text/plain": [
       "Female    52\n",
       "Male      48\n",
       "Name: gender, dtype: int64"
      ]
     },
     "execution_count": 20,
     "metadata": {},
     "output_type": "execute_result"
    }
   ],
   "source": [
    "df[\"gender\"]. value_counts()"
   ]
  },
  {
   "cell_type": "code",
   "execution_count": 23,
   "id": "2ec1d6c6",
   "metadata": {},
   "outputs": [],
   "source": [
    "age = []\n",
    "for i in range(100):\n",
    "    a= np.clip(rng.normal(37.4, 15), 18, 100)\n",
    "    age.append(int(a))\n",
    "df[\"age\"] = age"
   ]
  },
  {
   "cell_type": "code",
   "execution_count": 24,
   "id": "58e46e44",
   "metadata": {},
   "outputs": [
    {
     "data": {
      "text/html": [
       "<div>\n",
       "<style scoped>\n",
       "    .dataframe tbody tr th:only-of-type {\n",
       "        vertical-align: middle;\n",
       "    }\n",
       "\n",
       "    .dataframe tbody tr th {\n",
       "        vertical-align: top;\n",
       "    }\n",
       "\n",
       "    .dataframe thead th {\n",
       "        text-align: right;\n",
       "    }\n",
       "</style>\n",
       "<table border=\"1\" class=\"dataframe\">\n",
       "  <thead>\n",
       "    <tr style=\"text-align: right;\">\n",
       "      <th></th>\n",
       "      <th>person</th>\n",
       "      <th>gender</th>\n",
       "      <th>age</th>\n",
       "    </tr>\n",
       "  </thead>\n",
       "  <tbody>\n",
       "    <tr>\n",
       "      <th>0</th>\n",
       "      <td>Person 1</td>\n",
       "      <td>Male</td>\n",
       "      <td>46</td>\n",
       "    </tr>\n",
       "    <tr>\n",
       "      <th>1</th>\n",
       "      <td>Person 2</td>\n",
       "      <td>Male</td>\n",
       "      <td>18</td>\n",
       "    </tr>\n",
       "    <tr>\n",
       "      <th>2</th>\n",
       "      <td>Person 3</td>\n",
       "      <td>Female</td>\n",
       "      <td>36</td>\n",
       "    </tr>\n",
       "    <tr>\n",
       "      <th>3</th>\n",
       "      <td>Person 4</td>\n",
       "      <td>Female</td>\n",
       "      <td>33</td>\n",
       "    </tr>\n",
       "    <tr>\n",
       "      <th>4</th>\n",
       "      <td>Person 5</td>\n",
       "      <td>Male</td>\n",
       "      <td>38</td>\n",
       "    </tr>\n",
       "  </tbody>\n",
       "</table>\n",
       "</div>"
      ],
      "text/plain": [
       "     person  gender  age\n",
       "0  Person 1    Male   46\n",
       "1  Person 2    Male   18\n",
       "2  Person 3  Female   36\n",
       "3  Person 4  Female   33\n",
       "4  Person 5    Male   38"
      ]
     },
     "execution_count": 24,
     "metadata": {},
     "output_type": "execute_result"
    }
   ],
   "source": [
    "df.head()"
   ]
  },
  {
   "cell_type": "code",
   "execution_count": null,
   "id": "815b0c7a",
   "metadata": {},
   "outputs": [],
   "source": []
  },
  {
   "cell_type": "markdown",
   "id": "4c170dde",
   "metadata": {},
   "source": [
    "----------"
   ]
  },
  {
   "cell_type": "markdown",
   "id": "d04dc07c",
   "metadata": {},
   "source": [
    "## References"
   ]
  },
  {
   "cell_type": "markdown",
   "id": "d0249128",
   "metadata": {},
   "source": [
    "(Numpy 2022)\n",
    "https://numpy.org/doc/stable/reference/random/generated/numpy.random.Generator.choice.html\n",
    "\n",
    "(CSO 2023)\n",
    "https://www.cso.ie/en/releasesandpublications/ep/p-ieu50/irelandandtheeuat50/society/population/#:~:text=This%20represents%20a%20percentage%20increase%20of%20almost%2073%25,with%20females%20accounting%20for%2051%25%20of%20the%20population.\n"
   ]
  }
 ],
 "metadata": {
  "kernelspec": {
   "display_name": "Python 3 (ipykernel)",
   "language": "python",
   "name": "python3"
  },
  "language_info": {
   "codemirror_mode": {
    "name": "ipython",
    "version": 3
   },
   "file_extension": ".py",
   "mimetype": "text/x-python",
   "name": "python",
   "nbconvert_exporter": "python",
   "pygments_lexer": "ipython3",
   "version": "3.9.13"
  }
 },
 "nbformat": 4,
 "nbformat_minor": 5
}
