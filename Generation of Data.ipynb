{
 "cells": [
  {
   "attachments": {},
   "cell_type": "markdown",
   "id": "27a350cf",
   "metadata": {},
   "source": [
    "# Programming for Data Analysis"
   ]
  },
  {
   "attachments": {},
   "cell_type": "markdown",
   "id": "53d0ceb7",
   "metadata": {},
   "source": [
    "## Project 1: Generation of data"
   ]
  },
  {
   "attachments": {},
   "cell_type": "markdown",
   "id": "7fff19f7",
   "metadata": {},
   "source": [
    "## Author: Daniel Mc Donagh"
   ]
  },
  {
   "cell_type": "code",
   "execution_count": null,
   "id": "fef3b0fc",
   "metadata": {},
   "outputs": [],
   "source": [
    "This project will generate random Irish person data using the attributes of age, height, weight and sex. The random generated data will be based on the actual distribution of said data taken from statistical data measurements on the irish population.\n"
   ]
  }
 ],
 "metadata": {
  "kernelspec": {
   "display_name": "Python 3 (ipykernel)",
   "language": "python",
   "name": "python3"
  },
  "language_info": {
   "codemirror_mode": {
    "name": "ipython",
    "version": 3
   },
   "file_extension": ".py",
   "mimetype": "text/x-python",
   "name": "python",
   "nbconvert_exporter": "python",
   "pygments_lexer": "ipython3",
   "version": "3.9.13"
  }
 },
 "nbformat": 4,
 "nbformat_minor": 5
}
