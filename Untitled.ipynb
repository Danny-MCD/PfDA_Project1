{
 "cells": [
  {
   "cell_type": "markdown",
   "id": "2d7ea17a",
   "metadata": {},
   "source": [
    "# Programming for Data Analysis"
   ]
  },
  {
   "cell_type": "markdown",
   "id": "67757bf8",
   "metadata": {},
   "source": [
    "## Project 1: Generation of data"
   ]
  },
  {
   "cell_type": "markdown",
   "id": "c2777fdb",
   "metadata": {},
   "source": [
    "## Author: Daniel Mc Donagh"
   ]
  },
  {
   "cell_type": "code",
   "execution_count": 2,
   "id": "07bbde33",
   "metadata": {},
   "outputs": [
    {
     "data": {
      "text/html": [
       "<div>\n",
       "<style scoped>\n",
       "    .dataframe tbody tr th:only-of-type {\n",
       "        vertical-align: middle;\n",
       "    }\n",
       "\n",
       "    .dataframe tbody tr th {\n",
       "        vertical-align: top;\n",
       "    }\n",
       "\n",
       "    .dataframe thead th {\n",
       "        text-align: right;\n",
       "    }\n",
       "</style>\n",
       "<table border=\"1\" class=\"dataframe\">\n",
       "  <thead>\n",
       "    <tr style=\"text-align: right;\">\n",
       "      <th></th>\n",
       "      <th>person</th>\n",
       "      <th>gender</th>\n",
       "      <th>age</th>\n",
       "    </tr>\n",
       "  </thead>\n",
       "  <tbody>\n",
       "    <tr>\n",
       "      <th>0</th>\n",
       "      <td>Person 1</td>\n",
       "      <td>Female</td>\n",
       "      <td>44</td>\n",
       "    </tr>\n",
       "    <tr>\n",
       "      <th>1</th>\n",
       "      <td>Person 2</td>\n",
       "      <td>Female</td>\n",
       "      <td>30</td>\n",
       "    </tr>\n",
       "    <tr>\n",
       "      <th>2</th>\n",
       "      <td>Person 3</td>\n",
       "      <td>Male</td>\n",
       "      <td>52</td>\n",
       "    </tr>\n",
       "    <tr>\n",
       "      <th>3</th>\n",
       "      <td>Person 4</td>\n",
       "      <td>Female</td>\n",
       "      <td>38</td>\n",
       "    </tr>\n",
       "    <tr>\n",
       "      <th>4</th>\n",
       "      <td>Person 5</td>\n",
       "      <td>Male</td>\n",
       "      <td>50</td>\n",
       "    </tr>\n",
       "  </tbody>\n",
       "</table>\n",
       "</div>"
      ],
      "text/plain": [
       "     person  gender  age\n",
       "0  Person 1  Female   44\n",
       "1  Person 2  Female   30\n",
       "2  Person 3    Male   52\n",
       "3  Person 4  Female   38\n",
       "4  Person 5    Male   50"
      ]
     },
     "execution_count": 2,
     "metadata": {},
     "output_type": "execute_result"
    }
   ],
   "source": [
    "import pandas as pd\n",
    "import numpy as np\n",
    "import seaborn as sns\n",
    "import matplotlib.pyplot as plt\n",
    "\n",
    "df = pd.DataFrame(index = None)                # Creates a dataframe \"df\" using pandas dataframe function\n",
    "rng = np.random.default_rng(seed = 1)  \n",
    "\n",
    "person = []\n",
    "for i in range (100):\n",
    "    person.append (\"Person {}\".format(i+1))    # Appends person to each number from 1 to 100 as unique ID\n",
    "\n",
    "df[\"person\"] = person                          # Adds ccolumn name \"person\"\n",
    "\n",
    "gender_choice = [\"Male\",\"Female\"]\n",
    "gender = rng.choice (gender_choice, p = [0.49, 0.51], size = 100) #(Numpy 2022)\n",
    "for i in range (100):\n",
    "     gender_choice.append (\"gender_choice {}\".format(i+1)) \n",
    "\n",
    "df[\"gender\"] = gender\n",
    "\n",
    "age = []                                         # creates empty list called age\n",
    "for i in range(100):\n",
    "    a= np.clip(rng.normal(40, 15), 15, 65)       # generates data from normal distribution around mean 40. Clips values below\n",
    "    age.append(int(a))                           # 15 up to 15 and older than 65 are brought back to 65.\n",
    "df[\"age\"] = age\n",
    "\n",
    "\n",
    "df.head()                                      # Displays top 5 rows of dataframe"
   ]
  },
  {
   "cell_type": "code",
   "execution_count": null,
   "id": "b73b15c9",
   "metadata": {},
   "outputs": [],
   "source": []
  }
 ],
 "metadata": {
  "kernelspec": {
   "display_name": "Python 3 (ipykernel)",
   "language": "python",
   "name": "python3"
  },
  "language_info": {
   "codemirror_mode": {
    "name": "ipython",
    "version": 3
   },
   "file_extension": ".py",
   "mimetype": "text/x-python",
   "name": "python",
   "nbconvert_exporter": "python",
   "pygments_lexer": "ipython3",
   "version": "3.9.13"
  }
 },
 "nbformat": 4,
 "nbformat_minor": 5
}
