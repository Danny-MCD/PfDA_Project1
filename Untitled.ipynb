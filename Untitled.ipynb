{
 "cells": [
  {
   "cell_type": "markdown",
   "id": "2d7ea17a",
   "metadata": {},
   "source": [
    "# Programming for Data Analysis"
   ]
  },
  {
   "cell_type": "markdown",
   "id": "67757bf8",
   "metadata": {},
   "source": [
    "## Project 1: Generation of data"
   ]
  },
  {
   "cell_type": "markdown",
   "id": "c2777fdb",
   "metadata": {},
   "source": [
    "## Author: Daniel Mc Donagh"
   ]
  },
  {
   "cell_type": "code",
   "execution_count": null,
   "id": "07bbde33",
   "metadata": {},
   "outputs": [],
   "source": []
  }
 ],
 "metadata": {
  "kernelspec": {
   "display_name": "Python 3 (ipykernel)",
   "language": "python",
   "name": "python3"
  },
  "language_info": {
   "codemirror_mode": {
    "name": "ipython",
    "version": 3
   },
   "file_extension": ".py",
   "mimetype": "text/x-python",
   "name": "python",
   "nbconvert_exporter": "python",
   "pygments_lexer": "ipython3",
   "version": "3.9.13"
  }
 },
 "nbformat": 4,
 "nbformat_minor": 5
}
