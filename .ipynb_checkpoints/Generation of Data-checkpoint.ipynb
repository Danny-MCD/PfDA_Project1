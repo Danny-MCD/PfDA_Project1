{
 "cells": [
  {
   "cell_type": "markdown",
   "id": "27a350cf",
   "metadata": {},
   "source": [
    "# Programming for Data Analysis"
   ]
  },
  {
   "cell_type": "markdown",
   "id": "53d0ceb7",
   "metadata": {},
   "source": [
    "## Project 1: Generation of data - Nationality Specific BMI "
   ]
  },
  {
   "cell_type": "markdown",
   "id": "7fff19f7",
   "metadata": {},
   "source": [
    "## Author: Daniel Mc Donagh"
   ]
  },
  {
   "cell_type": "code",
   "execution_count": null,
   "id": "56772962",
   "metadata": {},
   "outputs": [],
   "source": []
  },
  {
   "cell_type": "code",
   "execution_count": null,
   "id": "37354ec4",
   "metadata": {},
   "outputs": [],
   "source": []
  },
  {
   "cell_type": "markdown",
   "id": "3ce36edc",
   "metadata": {},
   "source": [
    "### Introduction"
   ]
  },
  {
   "cell_type": "markdown",
   "id": "fef3b0fc",
   "metadata": {},
   "source": [
    "This project will generate random Irish person data using the attributes of age, height, weight and sex. The random generated data will be based on the actual distribution of said data taken from statistical data measurements on the irish population. By utilising census data specific to Ireland and the average means of height and weight specific to the Irish population the calculated BMI index of the generated person data can be shown plotted to a graph for further analysis. It is also enviaged that by replacing the statistical data related to the irish population with data from other nationalities. The generated data could be used to provide insight into how activities or services that are dependant on an average adults height and weight might function over long periods with 1000's of generated body shapes using it. For example comfort in seating sizes at events or acceptable height and weight restrictions on fairground rides.\n"
   ]
  },
  {
   "cell_type": "markdown",
   "id": "0067990b",
   "metadata": {},
   "source": [
    "## Body Mass Index - BMI\n",
    "\n",
    "BMI is an indicator of the ammount of body fat in a person. It is calculated from the height in meters of a person divided by their weight in kilos squared. The numerical value can then be alligned along a chart to see if a person falls into one of 4 categories. Underweight, Normal, Overweight and Obese."
   ]
  },
  {
   "cell_type": "markdown",
   "id": "f56bbff3",
   "metadata": {},
   "source": [
    "![BMI Chart](https://www.ncbi.nlm.nih.gov/books/NBK535456/bin/640px-Bmi-chart_colored.jpg)"
   ]
  },
  {
   "cell_type": "markdown",
   "id": "11963ff1",
   "metadata": {},
   "source": [
    "# Variables\n"
   ]
  },
  {
   "cell_type": "markdown",
   "id": "03ec49db",
   "metadata": {},
   "source": [
    "The List of variables to be used in the datarame are \n",
    "\n",
    "- ID \n",
    "- Gender\n",
    "- Age\n",
    "- Height\n",
    "- Weight"
   ]
  },
  {
   "cell_type": "markdown",
   "id": "b883786c",
   "metadata": {},
   "source": [
    "### ID\n",
    "Each random generated data point representing one person will be assigned a unique ID to identify it."
   ]
  },
  {
   "cell_type": "markdown",
   "id": "a54be441",
   "metadata": {},
   "source": [
    "### Gender\n",
    "Data taken from the central statistics office shows that since 1971 when there was an equal 50/50 split in the number of males and females in Ireland, the number of females has steadily increased such that in 2022, this had changed with females accounting for 51% of the population.(CSO 2023).Numpy's random choice generator with probability attribute set to the percentage of males and females in the Irish population will be used to accruately generate male and female data points based on this statistic.\n"
   ]
  },
  {
   "cell_type": "markdown",
   "id": "6985edfa",
   "metadata": {},
   "source": [
    "### Age\n"
   ]
  },
  {
   "cell_type": "markdown",
   "id": "3109cd20",
   "metadata": {},
   "source": [
    "The age attrribute for an average person in Ireland must be weighted against the percentage of that age group in the poulation when a random choice is being used to choose the age. In 2022 there were approximately 768,900 people who were aged 65 or over in the Republic of Ireland, compared with 1.28 million 45 to 64 year old's, and over 1.4 million 25 to 44 year old's, and 651,300 15 to 24 year old's. Additionally there were around a million aged between 0 and 14 in the Republic of Ireland in this year (Statistica 2023)."
   ]
  },
  {
   "cell_type": "markdown",
   "id": "68c3d938",
   "metadata": {},
   "source": [
    "With a population of 5.01 million people, When converted to a percentage these brackets of ages look like\n",
    "  - 0 to 14 year olds 1.0 million gives 19.96%\n",
    "  - 15 to 24 year olds 651,300 gives 13%\n",
    "  - 25 to 44 year olds 1.4 million gives 27.94%\n",
    "  - 45 to 64 year olds 1.28 million gives 25.55%\n",
    "  - 65 and over 768,900 gives 15.34%"
   ]
  },
  {
   "cell_type": "markdown",
   "id": "8ff601d3",
   "metadata": {},
   "source": [
    "As this generated age data will be assigned random height and weight measurments based on an average population mean. I decided to limit the age pool of which numpy could pull random choices from to only age groups of fully developed adults up to retirement age. This will increase the accuracy of the height and weight generated data when generated using a normal distribution via numpy random choice generator function. "
   ]
  },
  {
   "cell_type": "markdown",
   "id": "9427ae7c",
   "metadata": {},
   "source": [
    "This will reduce the population pool we are working from down to 3,331,300 adult sized persons. The resulting change as a percentage of the overall size when applied to the different age brackets is\n",
    "\n",
    "- 15 to 24 year olds 651,300 gives 19.5%\n",
    "- 25 to 44 year olds 1.4 million gives 42%\n",
    "- 45 to 64 year olds 1.28 million gives 38.5%"
   ]
  },
  {
   "cell_type": "markdown",
   "id": "e289dbd2",
   "metadata": {},
   "source": [
    "### Height\n",
    "\n",
    "Taken from the wikipedia (Wikipedia.1 2023) the avearage height of different nations. Ireland shows the average heifght of its males and females to be\n",
    "\n",
    "Males = 1.77m\n",
    "\n",
    "Females = 1.55m\n",
    "\n",
    "These mean height values will be added as a attribute to the numpy random choice generator and the random generation of data will be generated around a normal distribution from this mean.\n",
    "\n",
    "A normal distribution is typified by the data being evenly distirbuted around a mean value. The data forming a bell shape with a higher percentage of the data clustering around the mean and tapering off as you move further waway fromt that mean. Weight of a population closely follows this standard normal distribution (Scribbr, 2023)."
   ]
  },
  {
   "cell_type": "markdown",
   "id": "043fa2fa",
   "metadata": {},
   "source": [
    "![Normal Distribution](https://www.scribbr.de/wp-content/uploads/2023/01/standard-normal-distribution-example.webp)"
   ]
  },
  {
   "cell_type": "markdown",
   "id": "ff0de7b6",
   "metadata": {},
   "source": [
    "### Weight"
   ]
  },
  {
   "cell_type": "markdown",
   "id": "584c2a2f",
   "metadata": {},
   "source": [
    "Taken from the list of soverign states by Body Mass Index (Wikipedia.2 2023). The World Health Organisation in 2015 gathered data on the average BMI of both male and female adults in Ireland. \n",
    "\n",
    "Males average BMI = 27.9\n",
    "Females average BMI = 27.1\n",
    "\n",
    "Reverse calculating mean weight in kilos from this for both males and females gives\n",
    "  \n",
    "Males mean average weight is 87.4kilos\n",
    "Females mean average weight is 66.96kilos"
   ]
  },
  {
   "cell_type": "markdown",
   "id": "28f936b2",
   "metadata": {},
   "source": [
    "![Ireland placement on Nations BMI index](images\\nation bmi list.png)"
   ]
  },
  {
   "cell_type": "markdown",
   "id": "7bcccd70",
   "metadata": {},
   "source": [
    "### Generation of Data"
   ]
  },
  {
   "cell_type": "code",
   "execution_count": null,
   "id": "d225ab6f",
   "metadata": {},
   "outputs": [],
   "source": [
    "import pandas as pd\n",
    "import numpy as np\n",
    "import seaborn as sns\n",
    "import matplotlib.pyplot as plt"
   ]
  },
  {
   "cell_type": "code",
   "execution_count": 1,
   "id": "3248df50",
   "metadata": {},
   "outputs": [],
   "source": [
    "\n",
    "def generate_synthetic_data(num_points=100):\n",
    "    data = []\n",
    "    age_distribution = [\n",
    "        (15, 24, 0.195),\n",
    "        (25, 44, 0.42),\n",
    "        (45, 64, 0.385)\n",
    "    ]\n",
    "\n",
    "    for _ in range(num_points):\n",
    "        age_group = random.choices(age_distribution, weights=[w for _, _, w in age_distribution])[0]\n",
    "        age = random.randint(age_group[0], age_group[1])\n",
    "        data.append({'age': age})\n",
    "\n",
    "    return data"
   ]
  },
  {
   "cell_type": "code",
   "execution_count": null,
   "id": "4178c382",
   "metadata": {},
   "outputs": [],
   "source": []
  },
  {
   "cell_type": "code",
   "execution_count": null,
   "id": "d225e919",
   "metadata": {},
   "outputs": [],
   "source": []
  },
  {
   "cell_type": "code",
   "execution_count": 3,
   "id": "1c0e333f",
   "metadata": {},
   "outputs": [
    {
     "ename": "NameError",
     "evalue": "name 'pd' is not defined",
     "output_type": "error",
     "traceback": [
      "\u001b[1;31m---------------------------------------------------------------------------\u001b[0m",
      "\u001b[1;31mNameError\u001b[0m                                 Traceback (most recent call last)",
      "\u001b[1;32mc:\\Users\\damcdonagh\\repos\\PfDA_Project1\\Generation of Data.ipynb Cell 17\u001b[0m line \u001b[0;36m1\n\u001b[1;32m----> <a href='vscode-notebook-cell:/c%3A/Users/damcdonagh/repos/PfDA_Project1/Generation%20of%20Data.ipynb#X22sZmlsZQ%3D%3D?line=0'>1</a>\u001b[0m df \u001b[39m=\u001b[39m pd\u001b[39m.\u001b[39mDataFrame(index \u001b[39m=\u001b[39m \u001b[39mNone\u001b[39;00m)\n\u001b[0;32m      <a href='vscode-notebook-cell:/c%3A/Users/damcdonagh/repos/PfDA_Project1/Generation%20of%20Data.ipynb#X22sZmlsZQ%3D%3D?line=1'>2</a>\u001b[0m rng \u001b[39m=\u001b[39m np\u001b[39m.\u001b[39mrandom\u001b[39m.\u001b[39mdefault_rng(seed \u001b[39m=\u001b[39m \u001b[39m1\u001b[39m)\n",
      "\u001b[1;31mNameError\u001b[0m: name 'pd' is not defined"
     ]
    }
   ],
   "source": [
    "df = pd.DataFrame(index = None)\n",
    "rng = np.random.default_rng(seed = 1)\n"
   ]
  },
  {
   "cell_type": "code",
   "execution_count": null,
   "id": "31764b67",
   "metadata": {},
   "outputs": [
    {
     "data": {
      "text/html": [
       "<div>\n",
       "<style scoped>\n",
       "    .dataframe tbody tr th:only-of-type {\n",
       "        vertical-align: middle;\n",
       "    }\n",
       "\n",
       "    .dataframe tbody tr th {\n",
       "        vertical-align: top;\n",
       "    }\n",
       "\n",
       "    .dataframe thead th {\n",
       "        text-align: right;\n",
       "    }\n",
       "</style>\n",
       "<table border=\"1\" class=\"dataframe\">\n",
       "  <thead>\n",
       "    <tr style=\"text-align: right;\">\n",
       "      <th></th>\n",
       "      <th>person</th>\n",
       "    </tr>\n",
       "  </thead>\n",
       "  <tbody>\n",
       "    <tr>\n",
       "      <th>0</th>\n",
       "      <td>Person 1</td>\n",
       "    </tr>\n",
       "    <tr>\n",
       "      <th>1</th>\n",
       "      <td>Person 2</td>\n",
       "    </tr>\n",
       "    <tr>\n",
       "      <th>2</th>\n",
       "      <td>Person 3</td>\n",
       "    </tr>\n",
       "    <tr>\n",
       "      <th>3</th>\n",
       "      <td>Person 4</td>\n",
       "    </tr>\n",
       "    <tr>\n",
       "      <th>4</th>\n",
       "      <td>Person 5</td>\n",
       "    </tr>\n",
       "  </tbody>\n",
       "</table>\n",
       "</div>"
      ],
      "text/plain": [
       "     person\n",
       "0  Person 1\n",
       "1  Person 2\n",
       "2  Person 3\n",
       "3  Person 4\n",
       "4  Person 5"
      ]
     },
     "execution_count": 10,
     "metadata": {},
     "output_type": "execute_result"
    }
   ],
   "source": [
    "person = []\n",
    "for i in range (100):\n",
    "    person.append (\"Person {}\".format(i+1))\n",
    "\n",
    "df[\"person\"] = person\n",
    "df.head()"
   ]
  },
  {
   "cell_type": "code",
   "execution_count": null,
   "id": "6c424781",
   "metadata": {},
   "outputs": [
    {
     "data": {
      "image/png": "[encoded data removed]",
      "text/plain": [
       "<Figure size 640x480 with 1 Axes>"
      ]
     },
     "metadata": {},
     "output_type": "display_data"
    }
   ],
   "source": [
    "gender_choice = [\"Male\",\"Female\"]\n",
    "gender = rng.choice (gender_choice, p = [0.49, 0.51], size = 100) #(Numpy 2022)\n",
    "df[\"gender\"] = gender\n",
    "\n",
    "# Test\n",
    "sns.countplot(x = df[\"gender\"])\n",
    "plt.suptitle (\"Male vs Female\")\n",
    "plt.show()"
   ]
  },
  {
   "cell_type": "code",
   "execution_count": null,
   "id": "a5446a09",
   "metadata": {},
   "outputs": [
    {
     "data": {
      "text/plain": [
       "<bound method NDFrame.head of         person  gender\n",
       "0     Person 1    Male\n",
       "1     Person 2    Male\n",
       "2     Person 3    Male\n",
       "3     Person 4  Female\n",
       "4     Person 5    Male\n",
       "..         ...     ...\n",
       "95   Person 96    Male\n",
       "96   Person 97  Female\n",
       "97   Person 98    Male\n",
       "98   Person 99    Male\n",
       "99  Person 100    Male\n",
       "\n",
       "[100 rows x 2 columns]>"
      ]
     },
     "execution_count": 19,
     "metadata": {},
     "output_type": "execute_result"
    }
   ],
   "source": [
    "df.head\n"
   ]
  },
  {
   "cell_type": "code",
   "execution_count": null,
   "id": "c5c894f5",
   "metadata": {},
   "outputs": [
    {
     "data": {
      "text/plain": [
       "Female    52\n",
       "Male      48\n",
       "Name: gender, dtype: int64"
      ]
     },
     "execution_count": 20,
     "metadata": {},
     "output_type": "execute_result"
    }
   ],
   "source": [
    "df[\"gender\"]. value_counts()"
   ]
  },
  {
   "cell_type": "code",
   "execution_count": null,
   "id": "2ec1d6c6",
   "metadata": {},
   "outputs": [],
   "source": [
    "age = []\n",
    "for i in range(100):\n",
    "    a= np.clip(rng.normal(37.4, 15), 18, 100)\n",
    "    age.append(int(a))\n",
    "df[\"age\"] = age"
   ]
  },
  {
   "cell_type": "code",
   "execution_count": null,
   "id": "58e46e44",
   "metadata": {},
   "outputs": [
    {
     "data": {
      "text/html": [
       "<div>\n",
       "<style scoped>\n",
       "    .dataframe tbody tr th:only-of-type {\n",
       "        vertical-align: middle;\n",
       "    }\n",
       "\n",
       "    .dataframe tbody tr th {\n",
       "        vertical-align: top;\n",
       "    }\n",
       "\n",
       "    .dataframe thead th {\n",
       "        text-align: right;\n",
       "    }\n",
       "</style>\n",
       "<table border=\"1\" class=\"dataframe\">\n",
       "  <thead>\n",
       "    <tr style=\"text-align: right;\">\n",
       "      <th></th>\n",
       "      <th>person</th>\n",
       "      <th>gender</th>\n",
       "      <th>age</th>\n",
       "    </tr>\n",
       "  </thead>\n",
       "  <tbody>\n",
       "    <tr>\n",
       "      <th>0</th>\n",
       "      <td>Person 1</td>\n",
       "      <td>Male</td>\n",
       "      <td>46</td>\n",
       "    </tr>\n",
       "    <tr>\n",
       "      <th>1</th>\n",
       "      <td>Person 2</td>\n",
       "      <td>Male</td>\n",
       "      <td>18</td>\n",
       "    </tr>\n",
       "    <tr>\n",
       "      <th>2</th>\n",
       "      <td>Person 3</td>\n",
       "      <td>Female</td>\n",
       "      <td>36</td>\n",
       "    </tr>\n",
       "    <tr>\n",
       "      <th>3</th>\n",
       "      <td>Person 4</td>\n",
       "      <td>Female</td>\n",
       "      <td>33</td>\n",
       "    </tr>\n",
       "    <tr>\n",
       "      <th>4</th>\n",
       "      <td>Person 5</td>\n",
       "      <td>Male</td>\n",
       "      <td>38</td>\n",
       "    </tr>\n",
       "  </tbody>\n",
       "</table>\n",
       "</div>"
      ],
      "text/plain": [
       "     person  gender  age\n",
       "0  Person 1    Male   46\n",
       "1  Person 2    Male   18\n",
       "2  Person 3  Female   36\n",
       "3  Person 4  Female   33\n",
       "4  Person 5    Male   38"
      ]
     },
     "execution_count": 24,
     "metadata": {},
     "output_type": "execute_result"
    }
   ],
   "source": [
    "df.head()"
   ]
  },
  {
   "cell_type": "markdown",
   "id": "c8e7f4ed",
   "metadata": {},
   "source": [
    "## Height Variable\n",
    "The average height of a male in Ireland was found to be 1.77m. This data "
   ]
  },
  {
   "cell_type": "markdown",
   "id": "3dd556aa",
   "metadata": {},
   "source": []
  },
  {
   "cell_type": "code",
   "execution_count": null,
   "id": "815b0c7a",
   "metadata": {},
   "outputs": [
    {
     "ename": "TypeError",
     "evalue": "only size-1 arrays can be converted to Python scalars",
     "output_type": "error",
     "traceback": [
      "\u001b[1;31m---------------------------------------------------------------------------\u001b[0m",
      "\u001b[1;31mTypeError\u001b[0m                                 Traceback (most recent call last)",
      "\u001b[1;32m~\\AppData\\Local\\Temp\\ipykernel_12284\\1946392284.py\u001b[0m in \u001b[0;36m<module>\u001b[1;34m\u001b[0m\n\u001b[0;32m      9\u001b[0m \u001b[1;32mfor\u001b[0m \u001b[0mi\u001b[0m \u001b[1;32min\u001b[0m \u001b[0mrange\u001b[0m\u001b[1;33m(\u001b[0m\u001b[1;36m100\u001b[0m\u001b[1;33m)\u001b[0m\u001b[1;33m:\u001b[0m\u001b[1;33m\u001b[0m\u001b[1;33m\u001b[0m\u001b[0m\n\u001b[0;32m     10\u001b[0m     \u001b[0mh\u001b[0m \u001b[1;33m=\u001b[0m \u001b[0mnp\u001b[0m\u001b[1;33m.\u001b[0m\u001b[0mrandom\u001b[0m\u001b[1;33m.\u001b[0m\u001b[0mnormal\u001b[0m\u001b[1;33m(\u001b[0m\u001b[0mloc\u001b[0m\u001b[1;33m=\u001b[0m\u001b[0mmean_height_male\u001b[0m\u001b[1;33m,\u001b[0m \u001b[0mscale\u001b[0m\u001b[1;33m=\u001b[0m\u001b[0mstd_dev_male\u001b[0m\u001b[1;33m,\u001b[0m \u001b[0msize\u001b[0m\u001b[1;33m=\u001b[0m\u001b[0mnum_samples\u001b[0m\u001b[1;33m)\u001b[0m\u001b[1;33m\u001b[0m\u001b[1;33m\u001b[0m\u001b[0m\n\u001b[1;32m---> 11\u001b[1;33m     \u001b[0mheight\u001b[0m\u001b[1;33m.\u001b[0m\u001b[0mappend\u001b[0m\u001b[1;33m(\u001b[0m\u001b[0mint\u001b[0m\u001b[1;33m(\u001b[0m\u001b[0mh\u001b[0m\u001b[1;33m)\u001b[0m\u001b[1;33m)\u001b[0m\u001b[1;33m\u001b[0m\u001b[1;33m\u001b[0m\u001b[0m\n\u001b[0m\u001b[0;32m     12\u001b[0m \u001b[0mdf\u001b[0m\u001b[1;33m[\u001b[0m\u001b[1;34m\"height\"\u001b[0m\u001b[1;33m]\u001b[0m \u001b[1;33m=\u001b[0m \u001b[0mheight\u001b[0m\u001b[1;33m\u001b[0m\u001b[1;33m\u001b[0m\u001b[0m\n",
      "\u001b[1;31mTypeError\u001b[0m: only size-1 arrays can be converted to Python scalars"
     ]
    }
   ],
   "source": [
    "mean_height_male = 172\n",
    "std_dev_male = 7\n",
    "mean_height_female = 165\n",
    "std_dev_female = 6\n",
    "num_samples = 100\n",
    "\n",
    "\n",
    "height = []\n",
    "for i in range(100):\n",
    "    h = np.random.normal(loc=mean_height_male, scale=std_dev_male, size=num_samples)\n",
    "    height.append(int(h))\n",
    "df[\"height\"] = height"
   ]
  },
  {
   "cell_type": "markdown",
   "id": "4c170dde",
   "metadata": {},
   "source": [
    "----------"
   ]
  },
  {
   "cell_type": "markdown",
   "id": "d04dc07c",
   "metadata": {},
   "source": [
    "## References"
   ]
  },
  {
   "cell_type": "markdown",
   "id": "d0249128",
   "metadata": {},
   "source": [
    "(Numpy 2022)\n",
    "https://numpy.org/doc/stable/reference/random/generated/numpy.random.Generator.choice.html\n",
    "\n",
    "(CSO 2023)\n",
    "https://www.cso.ie/en/releasesandpublications/ep/p-ieu50/irelandandtheeuat50/society/population/#:~:text=This%20represents%20a%20percentage%20increase%20of%20almost%2073%25,with%20females%20accounting%20for%2051%25%20of%20the%20population.\n",
    "\n",
    "(Statista 2023)\n",
    "https://www.statista.com/statistics/710767/irish-population-by-age/\n",
    "\n",
    "(Wikipedia.1 2023)\n",
    "https://en.wikipedia.org/wiki/Average_human_height_by_country\n",
    "\n",
    "(Wikipedia.2 2023)\n",
    "https://en.wikipedia.org/wiki/List_of_sovereign_states_by_body_mass_index\n",
    "\n",
    "(Scribbr, 2023)\n",
    "https://www.scribbr.com/statistics/normal-distribution/#Why%20Do%20Normal%20Distributions%20Matter?"
   ]
  },
  {
   "cell_type": "code",
   "execution_count": null,
   "id": "2009dc28",
   "metadata": {},
   "outputs": [],
   "source": []
  }
 ],
 "metadata": {
  "kernelspec": {
   "display_name": "Python 3 (ipykernel)",
   "language": "python",
   "name": "python3"
  },
  "language_info": {
   "codemirror_mode": {
    "name": "ipython",
    "version": 3
   },
   "file_extension": ".py",
   "mimetype": "text/x-python",
   "name": "python",
   "nbconvert_exporter": "python",
   "pygments_lexer": "ipython3",
   "version": "3.9.13"
  }
 },
 "nbformat": 4,
 "nbformat_minor": 5
}
